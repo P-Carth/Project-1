{
 "cells": [
  {
   "cell_type": "code",
   "execution_count": null,
   "id": "696b20cc",
   "metadata": {},
   "outputs": [],
   "source": [
    "from dashboard_logic import *"
   ]
  },
  {
   "cell_type": "code",
   "execution_count": null,
   "id": "c58dfd3e",
   "metadata": {},
   "outputs": [],
   "source": [
    "# Create a Title for the Dashboard\n",
    "stock_column = pn.Column(\"## Stocks\",stock_interact_return(),stock_ticker_close_prices(),stock_ticker_daily_returns(),stock_ticker_cumulative_returns(),stock_ticker_rolling_std(),stock_ticker_corr())\n",
    "bond_column = pn.Column(\"## Bonds\",bond_interact_return(),bond_ticker_close_prices(),bond_ticker_daily_returns(),bond_ticker_cumulative_returns(),bond_ticker_rolling_std(),bond_ticker_corr())\n",
    "crypto_column = pn.Column(\"## Cryptos\",crypto_interact_return(), crypto_ticker_close_prices(),crypto_ticker_daily_returns(),crypto_ticker_cumulative_returns(),crypto_ticker_rolling_std(),crypto_ticker_corr())\n",
    "combined_column = pn.Column(\"## Combined\",  combined_daily_returns(), combined_cumulative_returns(), combined_rolling_std())\n",
    "                            \n",
    "# Create a tab layout for the dashboard\n",
    "dashboard = pn.Tabs(\n",
    "    (\"Stocks\", stock_column),\n",
    "    (\"Bonds\",bond_column),\n",
    "    (\"Cryptos\",crypto_column),\n",
    "    (\"Combined\",combined_column)\n",
    "    )"
   ]
  },
  {
   "cell_type": "code",
   "execution_count": null,
   "id": "2ab36604",
   "metadata": {},
   "outputs": [],
   "source": [
    "# Serve the# dashboard\n",
    "dashboard.servable()"
   ]
  },
  {
   "cell_type": "code",
   "execution_count": null,
   "id": "20670435",
   "metadata": {},
   "outputs": [],
   "source": []
  }
 ],
 "metadata": {
  "kernelspec": {
   "display_name": "Python 3 (ipykernel)",
   "language": "python",
   "name": "python3"
  },
  "language_info": {
   "codemirror_mode": {
    "name": "ipython",
    "version": 3
   },
   "file_extension": ".py",
   "mimetype": "text/x-python",
   "name": "python",
   "nbconvert_exporter": "python",
   "pygments_lexer": "ipython3",
   "version": "3.7.11"
  }
 },
 "nbformat": 4,
 "nbformat_minor": 5
}
